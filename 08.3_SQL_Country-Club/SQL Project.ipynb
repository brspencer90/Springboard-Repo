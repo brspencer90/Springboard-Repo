{
 "cells": [
  {
   "cell_type": "code",
   "execution_count": 1,
   "metadata": {},
   "outputs": [],
   "source": [
    "import sqlite3\n",
    "from sqlite3 import Error\n",
    "\n",
    "def select_all_tasks(conn, query1):\n",
    "    \"\"\"\n",
    "    Query all rows in the tasks table\n",
    "    :param conn: the Connection object\n",
    "    :return:\n",
    "    \"\"\"\n",
    "    cur = conn.cursor()\n",
    "    cur.execute(query1) \n",
    "    rows = cur.fetchall()\n",
    "    for row in rows:\n",
    "        print(row)"
   ]
  },
  {
   "cell_type": "code",
   "execution_count": 2,
   "metadata": {},
   "outputs": [],
   "source": [
    "database = \"sqlite_db_pythonsqlite.db\"\n",
    "conn = sqlite3.connect(database)"
   ]
  },
  {
   "cell_type": "markdown",
   "metadata": {},
   "source": [
    "##### Q1 : \n",
    "Some of the facilities charge a fee to members, but some do not.\n",
    "Write a SQL query to produce a list of the names of the facilities that do.\n"
   ]
  },
  {
   "cell_type": "code",
   "execution_count": 3,
   "metadata": {},
   "outputs": [
    {
     "name": "stdout",
     "output_type": "stream",
     "text": [
      "('Tennis Court 1',)\n",
      "('Tennis Court 2',)\n",
      "('Massage Room 1',)\n",
      "('Massage Room 2',)\n",
      "('Squash Court',)\n"
     ]
    }
   ],
   "source": [
    "query = \"\"\"\n",
    "SELECT name\n",
    "FROM Facilities\n",
    "WHERE membercost > 0\n",
    "\"\"\"\n",
    "with conn :\n",
    "    select_all_tasks(conn, query)"
   ]
  },
  {
   "cell_type": "markdown",
   "metadata": {},
   "source": [
    "#### Q2: \n",
    "How many facilities do not charge a fee to members?"
   ]
  },
  {
   "cell_type": "code",
   "execution_count": 4,
   "metadata": {},
   "outputs": [
    {
     "name": "stdout",
     "output_type": "stream",
     "text": [
      "(4,)\n"
     ]
    }
   ],
   "source": [
    "query = \"\"\"\n",
    "SELECT COUNT(*)\n",
    "FROM Facilities\n",
    "WHERE membercost = 0\n",
    "\"\"\"\n",
    "with conn :\n",
    "    select_all_tasks(conn, query)"
   ]
  },
  {
   "cell_type": "markdown",
   "metadata": {},
   "source": [
    "#### Q3: \n",
    "Write an SQL query to show a list of facilities that charge a fee to members,\n",
    "where the fee is less than 20% of the facility's monthly maintenance cost.\n",
    "Return the facid, facility name, member cost, and monthly maintenance of the\n",
    "facilities in question. "
   ]
  },
  {
   "cell_type": "code",
   "execution_count": 5,
   "metadata": {},
   "outputs": [
    {
     "name": "stdout",
     "output_type": "stream",
     "text": [
      "(0, 'Tennis Court 1', 5, 200)\n",
      "(1, 'Tennis Court 2', 5, 200)\n",
      "(4, 'Massage Room 1', 9.9, 3000)\n",
      "(5, 'Massage Room 2', 9.9, 3000)\n",
      "(6, 'Squash Court', 3.5, 80)\n"
     ]
    }
   ],
   "source": [
    "query = \"\"\"\n",
    "SELECT facid, name, membercost, monthlymaintenance\n",
    "FROM Facilities\n",
    "WHERE membercost > 0 AND membercost< 0.2*monthlymaintenance\n",
    "\"\"\"\n",
    "with conn :\n",
    "    select_all_tasks(conn, query)"
   ]
  },
  {
   "cell_type": "markdown",
   "metadata": {},
   "source": [
    "#### Q4: \n",
    "Write an SQL query to retrieve the details of facilities with ID 1 and 5.\n",
    "Try writing the query without using the OR operator."
   ]
  },
  {
   "cell_type": "code",
   "execution_count": 6,
   "metadata": {},
   "outputs": [
    {
     "name": "stdout",
     "output_type": "stream",
     "text": [
      "(1, 'Tennis Court 2', 5, 25, 8000, 200)\n",
      "(5, 'Massage Room 2', 9.9, 80, 4000, 3000)\n"
     ]
    }
   ],
   "source": [
    "query = \"\"\"\n",
    "SELECT *\n",
    "FROM Facilities\n",
    "WHERE facid IN(1,5)\n",
    "\"\"\"\n",
    "with conn :\n",
    "    select_all_tasks(conn, query)"
   ]
  },
  {
   "cell_type": "markdown",
   "metadata": {},
   "source": [
    "#### Q5: \n",
    "Produce a list of facilities, with each labelled as\n",
    "'cheap' or 'expensive', depending on if their monthly maintenance cost is\n",
    "more than $100. Return the name and monthly maintenance of the facilities\n",
    "in question."
   ]
  },
  {
   "cell_type": "code",
   "execution_count": 7,
   "metadata": {},
   "outputs": [
    {
     "name": "stdout",
     "output_type": "stream",
     "text": [
      "('Tennis Court 1', 200, 'expensive')\n",
      "('Tennis Court 2', 200, 'expensive')\n",
      "('Badminton Court', 50, 'cheap')\n",
      "('Table Tennis', 10, 'cheap')\n",
      "('Massage Room 1', 3000, 'expensive')\n",
      "('Massage Room 2', 3000, 'expensive')\n",
      "('Squash Court', 80, 'cheap')\n",
      "('Snooker Table', 15, 'cheap')\n",
      "('Pool Table', 15, 'cheap')\n"
     ]
    }
   ],
   "source": [
    "query = \"\"\"\n",
    "SELECT name, monthlymaintenance,\n",
    "    CASE WHEN monthlymaintenance < 100 THEN 'cheap'\n",
    "        ELSE 'expensive' END as cost_qual\n",
    "FROM Facilities\n",
    "\"\"\"\n",
    "with conn :\n",
    "    select_all_tasks(conn, query)"
   ]
  },
  {
   "cell_type": "markdown",
   "metadata": {},
   "source": [
    "#### Q6: \n",
    "You'd like to get the first and last name of the last member(s)\n",
    "who signed up. Try not to use the LIMIT clause for your solution."
   ]
  },
  {
   "cell_type": "code",
   "execution_count": 8,
   "metadata": {},
   "outputs": [
    {
     "name": "stdout",
     "output_type": "stream",
     "text": [
      "('Smith', 'Darren')\n",
      "('Crumpet', 'Erica')\n",
      "('Hunt', 'John')\n",
      "('Tupperware', 'Hyacinth')\n",
      "('Purview', 'Millicent')\n"
     ]
    }
   ],
   "source": [
    "query = \"\"\"\n",
    "SELECT surname, firstname\n",
    "FROM Members\n",
    "ORDER BY memID DESC\n",
    "\"\"\"\n",
    "with conn :\n",
    "    cur = conn.cursor()\n",
    "    cur.execute(query) \n",
    "    rows = cur.fetchall()\n",
    "    for i in range(0,5):\n",
    "        print(rows[i])"
   ]
  },
  {
   "cell_type": "markdown",
   "metadata": {},
   "source": [
    "##### Q7: \n",
    "Produce a list of all members who have used a tennis court.\n",
    "Include in your output the name of the court, and the name of the member\n",
    "formatted as a single column. Ensure no duplicate data, and order by\n",
    "the member name."
   ]
  },
  {
   "cell_type": "code",
   "execution_count": 9,
   "metadata": {},
   "outputs": [
    {
     "name": "stdout",
     "output_type": "stream",
     "text": [
      "('Tennis Court 1', 'Anne Baker')\n",
      "('Tennis Court 2', 'Anne Baker')\n",
      "('Tennis Court 2', 'Burton Tracy')\n",
      "('Tennis Court 1', 'Burton Tracy')\n",
      "('Tennis Court 1', 'Charles Owen')\n",
      "('Tennis Court 2', 'Charles Owen')\n",
      "('Tennis Court 2', 'Darren Smith')\n",
      "('Tennis Court 1', 'David Farrell')\n",
      "('Tennis Court 2', 'David Farrell')\n",
      "('Tennis Court 2', 'David Jones')\n",
      "('Tennis Court 1', 'David Jones')\n",
      "('Tennis Court 1', 'David Pinker')\n",
      "('Tennis Court 1', 'Douglas Jones')\n",
      "('Tennis Court 1', 'Erica Crumpet')\n",
      "('Tennis Court 2', 'Florence Bader')\n",
      "('Tennis Court 1', 'Florence Bader')\n",
      "('Tennis Court 2', 'GUEST GUEST')\n",
      "('Tennis Court 1', 'GUEST GUEST')\n",
      "('Tennis Court 1', 'Gerald Butters')\n",
      "('Tennis Court 2', 'Gerald Butters')\n",
      "('Tennis Court 2', 'Henrietta Rumney')\n",
      "('Tennis Court 1', 'Jack Smith')\n",
      "('Tennis Court 2', 'Jack Smith')\n",
      "('Tennis Court 1', 'Janice Joplette')\n",
      "('Tennis Court 2', 'Janice Joplette')\n",
      "('Tennis Court 2', 'Jemima Farrell')\n",
      "('Tennis Court 1', 'Jemima Farrell')\n",
      "('Tennis Court 1', 'Joan Coplin')\n",
      "('Tennis Court 1', 'John Hunt')\n",
      "('Tennis Court 2', 'John Hunt')\n",
      "('Tennis Court 1', 'Matthew Genting')\n",
      "('Tennis Court 2', 'Millicent Purview')\n",
      "('Tennis Court 2', 'Nancy Dare')\n",
      "('Tennis Court 1', 'Nancy Dare')\n",
      "('Tennis Court 2', 'Ponder Stibbons')\n",
      "('Tennis Court 1', 'Ponder Stibbons')\n",
      "('Tennis Court 2', 'Ramnaresh Sarwin')\n",
      "('Tennis Court 1', 'Ramnaresh Sarwin')\n",
      "('Tennis Court 2', 'Tim Boothe')\n",
      "('Tennis Court 1', 'Tim Boothe')\n",
      "('Tennis Court 2', 'Tim Rownam')\n",
      "('Tennis Court 1', 'Tim Rownam')\n",
      "('Tennis Court 2', 'Timothy Baker')\n",
      "('Tennis Court 1', 'Timothy Baker')\n",
      "('Tennis Court 1', 'Tracy Smith')\n",
      "('Tennis Court 2', 'Tracy Smith')\n"
     ]
    }
   ],
   "source": [
    "# Tennis court facid = 0, 1\n",
    "\n",
    "query = \"\"\"\n",
    "SELECT DISTINCT f.name as fac_name, (m.firstname || ' ' || m.surname) as full_name\n",
    "FROM Facilities as f\n",
    "INNER JOIN Bookings as b\n",
    "USING(facid)\n",
    "INNER JOIN members as m\n",
    "USING(memid)\n",
    "WHERE f.facid IN(0,1)\n",
    "ORDER BY full_name\n",
    "\"\"\"\n",
    "with conn :\n",
    "    select_all_tasks(conn, query)"
   ]
  },
  {
   "cell_type": "markdown",
   "metadata": {},
   "source": [
    "##### Q8: \n",
    "Produce a list of bookings on the day of 2012-09-14 which\n",
    "will cost the member (or guest) more than $30. Remember that guests have\n",
    "different costs to members (the listed costs are per half-hour 'slot'), and\n",
    "the guest user's ID is always 0. Include in your output the name of the\n",
    "facility, the name of the member formatted as a single column, and the cost.\n",
    "Order by descending cost, and do not use any subqueries."
   ]
  },
  {
   "cell_type": "code",
   "execution_count": null,
   "metadata": {},
   "outputs": [],
   "source": []
  },
  {
   "cell_type": "code",
   "execution_count": 10,
   "metadata": {},
   "outputs": [
    {
     "name": "stdout",
     "output_type": "stream",
     "text": [
      "('Massage Room 2', 'GUEST GUEST', 320)\n",
      "('Massage Room 1', 'GUEST GUEST', 160)\n",
      "('Massage Room 1', 'GUEST GUEST', 160)\n",
      "('Massage Room 1', 'GUEST GUEST', 160)\n",
      "('Tennis Court 2', 'GUEST GUEST', 150)\n",
      "('Tennis Court 1', 'GUEST GUEST', 75)\n",
      "('Tennis Court 1', 'GUEST GUEST', 75)\n",
      "('Tennis Court 2', 'GUEST GUEST', 75)\n",
      "('Squash Court', 'GUEST GUEST', 70.0)\n",
      "('Massage Room 1', 'Jemima Farrell', 39.6)\n",
      "('Squash Court', 'GUEST GUEST', 35.0)\n",
      "('Squash Court', 'GUEST GUEST', 35.0)\n"
     ]
    }
   ],
   "source": [
    "# b.starttime LIKE '2012-09-14%'\n",
    "# f.membercost > 30 OR (f.guestcost > 30 AND b.memid = 0)\n",
    "\n",
    "query = \"\"\"\n",
    "SELECT f.name, (m.firstname || ' ' || m.surname) as full_name,\n",
    "    CASE WHEN b.memid = 0 THEN f.guestcost*b.slots\n",
    "        ELSE f.membercost*b.slots END as cost_booking\n",
    "FROM Bookings as b\n",
    "INNER JOIN Facilities as f\n",
    "USING(facid)\n",
    "INNER JOIN Members as m\n",
    "USING(memid)\n",
    "WHERE b.starttime LIKE '2012-09-14%' AND\n",
    "    (f.membercost*b.slots > 30 OR (f.guestcost*b.slots > 30 AND b.memid = 0))\n",
    "ORDER BY cost_booking DESC\n",
    "\"\"\"\n",
    "with conn :\n",
    "    select_all_tasks(conn, query)"
   ]
  },
  {
   "cell_type": "markdown",
   "metadata": {},
   "source": [
    "##### Q9: \n",
    "This time, produce the same result as in Q8, but using a subquery."
   ]
  },
  {
   "cell_type": "code",
   "execution_count": 39,
   "metadata": {},
   "outputs": [
    {
     "name": "stdout",
     "output_type": "stream",
     "text": [
      "('Massage Room 2', 'GUEST GUEST', 320.0)\n",
      "('Massage Room 1', 'GUEST GUEST', 160.0)\n",
      "('Massage Room 1', 'GUEST GUEST', 160.0)\n",
      "('Massage Room 1', 'GUEST GUEST', 160.0)\n",
      "('Tennis Court 2', 'GUEST GUEST', 150)\n",
      "('Tennis Court 1', 'GUEST GUEST', 75)\n",
      "('Tennis Court 1', 'GUEST GUEST', 75)\n",
      "('Tennis Court 2', 'GUEST GUEST', 75)\n",
      "('Squash Court', 'GUEST GUEST', 70.0)\n",
      "('Massage Room 1', 'Jemima Farrell', 39.6)\n",
      "('Squash Court', 'GUEST GUEST', 35.0)\n",
      "('Squash Court', 'GUEST GUEST', 35.0)\n"
     ]
    }
   ],
   "source": [
    "query = \"\"\"\n",
    "\n",
    "SELECT \n",
    "    f.name,\n",
    "    (m.firstname || ' ' || m.surname) as full_name, \n",
    "    (f.guestcost * fac_slot.guest_slot + \n",
    "        f.membercost * fac_slot.mem_slot) as tot_cost\n",
    "FROM (\n",
    "    SELECT bookid, memid, facid, ifnull(mem_slot,0) as mem_slot, ifnull(guest_slot,0) as guest_slot\n",
    "    FROM (\n",
    "        WITH guest_b AS (\n",
    "            SELECT bookid, memid, facid, slots\n",
    "                FROM bookings\n",
    "                WHERE memid = 0\n",
    "                ),\n",
    "        mem_b AS (\n",
    "            SELECT bookid, memid, facid, slots\n",
    "                FROM bookings\n",
    "                WHERE memid != 0\n",
    "                )\n",
    "        SELECT b.bookid, b.memid, b.facid,\n",
    "            mem_b.slots AS mem_slot,\n",
    "            guest_b.slots AS guest_slot\n",
    "        FROM bookings as b\n",
    "        LEFT JOIN mem_b\n",
    "        ON mem_b.bookid = b.bookid\n",
    "        LEFT JOIN guest_b\n",
    "        ON guest_b.bookid = b.bookid\n",
    "        WHERE b.starttime LIKE '2012-09-14%')) as fac_slot\n",
    "INNER JOIN members as m\n",
    "USING(memid)\n",
    "INNER JOIN facilities as f\n",
    "USING(facid)    \n",
    "WHERE (tot_cost > 30)\n",
    "ORDER BY tot_cost DESC\n",
    "\"\"\"\n",
    "\n",
    "\n",
    "with conn :\n",
    "    select_all_tasks(conn, query)"
   ]
  },
  {
   "cell_type": "markdown",
   "metadata": {},
   "source": [
    "#### Q10: \n",
    "Produce a list of facilities with a total revenue less than 1000.\n",
    "The output of facility name and total revenue, sorted by revenue. Remember\n",
    "that there's a different cost for guests and members!"
   ]
  },
  {
   "cell_type": "code",
   "execution_count": 12,
   "metadata": {},
   "outputs": [
    {
     "name": "stdout",
     "output_type": "stream",
     "text": [
      "('Pool Table', 270)\n",
      "('Snooker Table', 240)\n",
      "('Table Tennis', 180)\n"
     ]
    }
   ],
   "source": [
    "# Total Revenue : \n",
    "# Find count of **SLOTS** by guests / members (guests (memid=0), and members (else)), group by facid\n",
    "# Multiply count of guests/members by cost\n",
    "\n",
    "query = \"\"\"\n",
    "SELECT f.name,\n",
    "    (f.guestcost * fac_slot.guest_slot_tot + \n",
    "        f.membercost * fac_slot.mem_slot_tot) as tot_rev\n",
    "FROM  \n",
    "    (WITH guest_b AS (\n",
    "        SELECT bookid, facid, slots\n",
    "            FROM bookings\n",
    "            WHERE memid = 0\n",
    "            ),\n",
    "    mem_b AS (\n",
    "        SELECT bookid, facid, slots\n",
    "            FROM bookings\n",
    "            WHERE memid != 0\n",
    "            )\n",
    "    SELECT b.facid,\n",
    "        SUM(mem_b.slots) AS mem_slot_tot,\n",
    "        SUM(guest_b.slots) AS guest_slot_tot\n",
    "    FROM bookings as b\n",
    "    LEFT JOIN mem_b\n",
    "    ON mem_b.bookid = b.bookid\n",
    "    LEFT JOIN guest_b\n",
    "    ON guest_b.bookid = b.bookid\n",
    "    GROUP BY b.facid) as fac_slot\n",
    "INNER JOIN facilities as f\n",
    "USING(facid)\n",
    "WHERE tot_rev < 1000\n",
    "ORDER BY tot_rev desc\n",
    "\"\"\"\n",
    "\n",
    "\n",
    "\n",
    "with conn :\n",
    "    select_all_tasks(conn, query)"
   ]
  },
  {
   "cell_type": "markdown",
   "metadata": {},
   "source": [
    "#### Q11: \n",
    "Produce a report of members and who recommended them in alphabetic surname,firstname order\n"
   ]
  },
  {
   "cell_type": "code",
   "execution_count": 13,
   "metadata": {},
   "outputs": [
    {
     "name": "stdout",
     "output_type": "stream",
     "text": [
      "('Smith, Darren',)\n",
      "('Smith, Tracy',)\n",
      "('Rownam, Tim',)\n",
      "('Joplette, Janice',)\n",
      "('Butters, Gerald',)\n",
      "('Tracy, Burton',)\n",
      "('Stibbons, Ponder',)\n",
      "('Jones, David',)\n",
      "('Farrell, Jemima',)\n",
      "('Bader, Florence',)\n",
      "('Baker, Timothy',)\n",
      "('Genting, Matthew',)\n",
      "('Purview, Millicent',)\n"
     ]
    }
   ],
   "source": [
    "# get distinct recommendedby names\n",
    "# WHERE IN(list distinct names)\n",
    "query = \"\"\"\n",
    "SELECT surname || ', ' || firstname as name\n",
    "FROM Members\n",
    "WHERE memid IN(\n",
    "    SELECT DISTINCT recommendedby\n",
    "    FROM Members\n",
    "    WHERE recommendedby NOT NULL)\n",
    "\"\"\"\n",
    "\n",
    "with conn :\n",
    "    select_all_tasks(conn, query)\n"
   ]
  },
  {
   "cell_type": "markdown",
   "metadata": {},
   "source": [
    "#### Q12: \n",
    "Find the facilities with their usage by member, but not guests "
   ]
  },
  {
   "cell_type": "code",
   "execution_count": 14,
   "metadata": {},
   "outputs": [
    {
     "name": "stdout",
     "output_type": "stream",
     "text": [
      "(0, 2, 93)\n",
      "(0, 3, 18)\n",
      "(0, 4, 57)\n",
      "(0, 5, 171)\n",
      "(0, 6, 93)\n",
      "(0, 7, 81)\n",
      "(0, 8, 12)\n",
      "(0, 9, 3)\n",
      "(0, 10, 51)\n",
      "(0, 11, 84)\n",
      "(0, 12, 18)\n",
      "(0, 13, 3)\n",
      "(0, 14, 75)\n",
      "(0, 15, 3)\n",
      "(0, 16, 45)\n",
      "(0, 17, 51)\n",
      "(0, 20, 3)\n",
      "(0, 22, 21)\n",
      "(0, 24, 15)\n",
      "(0, 26, 27)\n",
      "(0, 28, 18)\n",
      "(0, 35, 12)\n",
      "(0, 36, 3)\n",
      "(1, 1, 57)\n",
      "(1, 2, 6)\n",
      "(1, 3, 18)\n",
      "(1, 4, 24)\n",
      "(1, 5, 9)\n",
      "(1, 6, 9)\n",
      "(1, 7, 33)\n",
      "(1, 8, 168)\n",
      "(1, 9, 96)\n",
      "(1, 10, 141)\n",
      "(1, 11, 99)\n",
      "(1, 12, 114)\n",
      "(1, 13, 3)\n",
      "(1, 14, 3)\n",
      "(1, 15, 24)\n",
      "(1, 16, 21)\n",
      "(1, 24, 36)\n",
      "(1, 27, 3)\n",
      "(1, 28, 3)\n",
      "(1, 30, 3)\n",
      "(1, 35, 12)\n",
      "(2, 1, 432)\n",
      "(2, 2, 102)\n",
      "(2, 3, 12)\n",
      "(2, 5, 63)\n",
      "(2, 6, 6)\n",
      "(2, 7, 30)\n",
      "(2, 8, 36)\n",
      "(2, 9, 48)\n",
      "(2, 10, 18)\n",
      "(2, 11, 24)\n",
      "(2, 12, 30)\n",
      "(2, 13, 21)\n",
      "(2, 14, 36)\n",
      "(2, 15, 27)\n",
      "(2, 16, 21)\n",
      "(2, 17, 21)\n",
      "(2, 21, 96)\n",
      "(2, 24, 21)\n",
      "(2, 26, 6)\n",
      "(2, 29, 15)\n",
      "(2, 30, 6)\n",
      "(2, 33, 3)\n",
      "(2, 35, 6)\n",
      "(2, 36, 6)\n",
      "(3, 1, 56)\n",
      "(3, 2, 56)\n",
      "(3, 3, 150)\n",
      "(3, 4, 18)\n",
      "(3, 5, 2)\n",
      "(3, 6, 48)\n",
      "(3, 7, 10)\n",
      "(3, 8, 8)\n",
      "(3, 9, 6)\n",
      "(3, 10, 50)\n",
      "(3, 11, 22)\n",
      "(3, 12, 2)\n",
      "(3, 13, 24)\n",
      "(3, 14, 10)\n",
      "(3, 15, 86)\n",
      "(3, 16, 48)\n",
      "(3, 17, 34)\n",
      "(3, 20, 54)\n",
      "(3, 21, 32)\n",
      "(3, 22, 46)\n",
      "(3, 24, 6)\n",
      "(3, 29, 6)\n",
      "(3, 30, 14)\n",
      "(3, 35, 2)\n",
      "(3, 36, 4)\n",
      "(4, 1, 58)\n",
      "(4, 2, 12)\n",
      "(4, 3, 176)\n",
      "(4, 4, 24)\n",
      "(4, 5, 66)\n",
      "(4, 6, 62)\n",
      "(4, 7, 38)\n",
      "(4, 8, 76)\n",
      "(4, 9, 40)\n",
      "(4, 10, 22)\n",
      "(4, 11, 40)\n",
      "(4, 12, 6)\n",
      "(4, 13, 68)\n",
      "(4, 14, 54)\n",
      "(4, 16, 50)\n",
      "(4, 17, 6)\n",
      "(4, 20, 52)\n",
      "(4, 21, 2)\n",
      "(4, 22, 2)\n",
      "(4, 24, 16)\n",
      "(4, 29, 2)\n",
      "(4, 33, 2)\n",
      "(4, 35, 6)\n",
      "(4, 36, 4)\n",
      "(5, 3, 4)\n",
      "(5, 4, 4)\n",
      "(5, 5, 2)\n",
      "(5, 7, 10)\n",
      "(5, 10, 4)\n",
      "(5, 11, 8)\n",
      "(5, 12, 4)\n",
      "(5, 14, 2)\n",
      "(5, 15, 4)\n",
      "(5, 20, 2)\n",
      "(5, 22, 4)\n",
      "(5, 24, 6)\n",
      "(6, 1, 30)\n",
      "(6, 2, 12)\n",
      "(6, 4, 30)\n",
      "(6, 5, 18)\n",
      "(6, 6, 78)\n",
      "(6, 8, 24)\n",
      "(6, 9, 4)\n",
      "(6, 10, 14)\n",
      "(6, 11, 16)\n",
      "(6, 12, 110)\n",
      "(6, 13, 16)\n",
      "(6, 14, 22)\n",
      "(6, 15, 4)\n",
      "(6, 16, 10)\n",
      "(6, 17, 6)\n",
      "(6, 21, 4)\n",
      "(6, 22, 2)\n",
      "(6, 24, 4)\n",
      "(6, 26, 2)\n",
      "(6, 27, 4)\n",
      "(6, 28, 2)\n",
      "(6, 30, 2)\n",
      "(6, 33, 2)\n",
      "(6, 35, 2)\n",
      "(7, 1, 24)\n",
      "(7, 2, 90)\n",
      "(7, 4, 142)\n",
      "(7, 5, 72)\n",
      "(7, 6, 40)\n",
      "(7, 7, 46)\n",
      "(7, 8, 90)\n",
      "(7, 9, 40)\n",
      "(7, 10, 44)\n",
      "(7, 11, 4)\n",
      "(7, 13, 44)\n",
      "(7, 14, 10)\n",
      "(7, 15, 66)\n",
      "(7, 17, 32)\n",
      "(7, 20, 2)\n",
      "(7, 21, 14)\n",
      "(7, 22, 20)\n",
      "(7, 24, 36)\n",
      "(7, 27, 28)\n",
      "(7, 28, 2)\n",
      "(7, 30, 2)\n",
      "(7, 33, 12)\n",
      "(8, 1, 28)\n",
      "(8, 2, 64)\n",
      "(8, 3, 282)\n",
      "(8, 4, 27)\n",
      "(8, 5, 6)\n",
      "(8, 6, 30)\n",
      "(8, 7, 19)\n",
      "(8, 8, 26)\n",
      "(8, 9, 12)\n",
      "(8, 10, 1)\n",
      "(8, 11, 8)\n",
      "(8, 12, 12)\n",
      "(8, 13, 1)\n",
      "(8, 14, 7)\n",
      "(8, 15, 23)\n",
      "(8, 16, 95)\n",
      "(8, 17, 9)\n",
      "(8, 20, 18)\n",
      "(8, 21, 83)\n",
      "(8, 22, 11)\n",
      "(8, 24, 13)\n",
      "(8, 26, 2)\n",
      "(8, 27, 3)\n",
      "(8, 28, 25)\n",
      "(8, 29, 37)\n",
      "(8, 30, 5)\n",
      "(8, 33, 9)\n"
     ]
    }
   ],
   "source": [
    "# SUM(slots) \n",
    "# where memid != 0\n",
    "# group by facid, member\n",
    "\n",
    "\n",
    "query = \"\"\"\n",
    "SELECT facid, memid, SUM(slots)\n",
    "FROM Bookings\n",
    "WHERE memid !=0\n",
    "GROUP BY facid, memid\n",
    "\"\"\"\n",
    "\n",
    "with conn :\n",
    "    select_all_tasks(conn, query)"
   ]
  },
  {
   "cell_type": "markdown",
   "metadata": {},
   "source": [
    "#### Q13: \n",
    "Find the facilities usage by month, but not guests"
   ]
  },
  {
   "cell_type": "code",
   "execution_count": 15,
   "metadata": {},
   "outputs": [
    {
     "name": "stdout",
     "output_type": "stream",
     "text": [
      "('07', 0, 201)\n",
      "('07', 1, 123)\n",
      "('07', 2, 165)\n",
      "('07', 3, 98)\n",
      "('07', 4, 166)\n",
      "('07', 5, 8)\n",
      "('07', 6, 50)\n",
      "('07', 7, 140)\n",
      "('07', 8, 110)\n",
      "('08', 0, 339)\n",
      "('08', 1, 345)\n",
      "('08', 2, 414)\n",
      "('08', 3, 296)\n",
      "('08', 4, 316)\n",
      "('08', 5, 18)\n",
      "('08', 6, 184)\n",
      "('08', 7, 316)\n",
      "('08', 8, 303)\n",
      "('09', 0, 417)\n",
      "('09', 1, 414)\n",
      "('09', 2, 507)\n",
      "('09', 3, 400)\n",
      "('09', 4, 402)\n",
      "('09', 5, 28)\n",
      "('09', 6, 184)\n",
      "('09', 7, 404)\n",
      "('09', 8, 443)\n"
     ]
    }
   ],
   "source": [
    "# GROUP BY EXTRACT(MONTH from starttime), facid\n",
    "\n",
    "query = \"\"\"\n",
    "SELECT \n",
    "    strftime('%m', starttime) as month_group,\n",
    "    facid, \n",
    "    SUM(slots) as usage\n",
    "FROM Bookings\n",
    "WHERE memid != 0\n",
    "GROUP BY month_group, facid\n",
    "\"\"\"\n",
    "\n",
    "with conn :\n",
    "    select_all_tasks(conn, query)"
   ]
  }
 ],
 "metadata": {
  "kernelspec": {
   "display_name": "Python 3",
   "language": "python",
   "name": "python3"
  },
  "language_info": {
   "codemirror_mode": {
    "name": "ipython",
    "version": 3
   },
   "file_extension": ".py",
   "mimetype": "text/x-python",
   "name": "python",
   "nbconvert_exporter": "python",
   "pygments_lexer": "ipython3",
   "version": "3.7.6"
  }
 },
 "nbformat": 4,
 "nbformat_minor": 4
}
